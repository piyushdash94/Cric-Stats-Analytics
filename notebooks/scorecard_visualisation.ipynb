{
 "cells": [
  {
   "cell_type": "markdown",
   "id": "33915bc0",
   "metadata": {},
   "source": [
    "# Scorecard visualisation\n",
    "This notebook demonstrates computing and plotting a scorecard."
   ]
  },
  {
   "cell_type": "code",
   "execution_count": null,
   "id": "b87ae578",
   "metadata": {},
   "outputs": [],
   "source": [
    "from src.extract_data import extract_data\n",
    "from src.scorecard_analysis import compute_scorecard, plot_scorecard\n",
    "\n",
    "file_path = \"../data/ind_inning4_over96_aus_vs_ind_gabba_test.json\"\n",
    "commentary = extract_data(file_path)\n",
    "df = compute_scorecard(commentary)\n",
    "plot_scorecard(df)"
   ]
  }
 ],
 "metadata": {},
 "nbformat": 4,
 "nbformat_minor": 5
}
